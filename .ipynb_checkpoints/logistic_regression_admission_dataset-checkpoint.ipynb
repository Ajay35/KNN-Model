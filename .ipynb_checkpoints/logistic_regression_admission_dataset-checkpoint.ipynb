{
 "cells": [
  {
   "cell_type": "code",
   "execution_count": null,
   "metadata": {},
   "outputs": [],
   "source": [
    "import pandas as pd\n",
    "import numpy as np\n",
    "import matplotlib.pyplot as mlt\n",
    "import csv\n",
    "import random\n",
    "import operator\n",
    "import math\n",
    "from sklearn.model_selection import train_test_split\n",
    "from sklearn.metrics import precision_recall_fscore_support as score"
   ]
  },
  {
   "cell_type": "code",
   "execution_count": null,
   "metadata": {},
   "outputs": [],
   "source": [
    "split = 0.2\n",
    "df=pd.read_csv('admission_data.csv')\n",
    "#target_mean=df['Chance of Admit '].mean()\n",
    "#target_min=df['Chance of Admit '].min()\n",
    "#target_max=df['Chance of Admit '].max()\n",
    "#df=(df-df.mean())/(df.max()-df.min())\n",
    "## denormalize predicted value ----> (normalized)*(max(x)-min(x))+mean(x)\n",
    "Xdf=df[df.columns[[1,2,3,4,5,6,7]]]\n",
    "ydf=df[df.columns[8]]\n",
    "X=Xdf.values\n",
    "X=(X-X.mean())/(X.max()-X.min())\n",
    "y=ydf.values\n",
    "\n",
    "for i in range(len(y)):\n",
    "    if y[i]<0.5:\n",
    "        y[i]=0.0\n",
    "    else:\n",
    "        y[i]=1.0\n",
    "\n",
    "print(type(y))\n",
    "print(y)"
   ]
  },
  {
   "cell_type": "code",
   "execution_count": null,
   "metadata": {},
   "outputs": [],
   "source": [
    "#train_df,validation_df = divide(df,validation_data_size=0.2)\n",
    "X_train,X_valid,y_train,y_valid=train_test_split(X,y,test_size=0.2,random_state=5)"
   ]
  },
  {
   "cell_type": "code",
   "execution_count": null,
   "metadata": {},
   "outputs": [],
   "source": [
    "y_valid[0]"
   ]
  },
  {
   "cell_type": "code",
   "execution_count": null,
   "metadata": {},
   "outputs": [],
   "source": [
    "X_train.shape"
   ]
  },
  {
   "cell_type": "code",
   "execution_count": null,
   "metadata": {},
   "outputs": [],
   "source": [
    "X_train=X_train.T\n",
    "X_train.shape[0]"
   ]
  },
  {
   "cell_type": "code",
   "execution_count": null,
   "metadata": {},
   "outputs": [],
   "source": [
    "y_train.shape"
   ]
  },
  {
   "cell_type": "code",
   "execution_count": null,
   "metadata": {},
   "outputs": [],
   "source": [
    "y_train=np.array([y_train])\n",
    "y_train.shape"
   ]
  },
  {
   "cell_type": "code",
   "execution_count": null,
   "metadata": {},
   "outputs": [],
   "source": [
    "X_valid=X_valid.T\n",
    "X_valid.shape"
   ]
  },
  {
   "cell_type": "code",
   "execution_count": null,
   "metadata": {},
   "outputs": [],
   "source": [
    "y_valid=np.array([y_valid])\n",
    "y_valid.shape"
   ]
  },
  {
   "cell_type": "code",
   "execution_count": null,
   "metadata": {},
   "outputs": [],
   "source": [
    "def init_parameters(lenw):\n",
    "    w=np.random.randn(1,lenw)\n",
    "    #w=np.zeros(1,lenw)\n",
    "    #print(\"shape of theta vector:\",w.shape)\n",
    "    b=0\n",
    "    return w,b"
   ]
  },
  {
   "cell_type": "code",
   "execution_count": null,
   "metadata": {},
   "outputs": [],
   "source": [
    "def get_prediction(X,w,b):\n",
    "    z=np.dot(w,X)+b # z-->1xm\n",
    "    return sigmoid_function(z)"
   ]
  },
  {
   "cell_type": "code",
   "execution_count": null,
   "metadata": {},
   "outputs": [],
   "source": [
    "def sigmoid_function(z):\n",
    "    gz=1 / (1 + np.exp(-z))\n",
    "    return gz "
   ]
  },
  {
   "cell_type": "code",
   "execution_count": null,
   "metadata": {},
   "outputs": [],
   "source": [
    "def cost_function(z,y):\n",
    "    m= y.shape[1]\n",
    "    #print('m type:',type(m))\n",
    "    #print('m type:',type(z))\n",
    "    #print('m type:',type(y))\n",
    "    #print('y shape',y.shape)\n",
    "    #print('z-shape',z.shape)\n",
    "    J = -(1/m)*np.sum(((y.T*np.log(z)) + (1-y).T* np.log(1-z)))\n",
    "    \n",
    "    \n",
    "    #J = (1/(2*m))*np.sum(np.square(z-y))\n",
    "    #mean absolute error\n",
    "    #J = (1/(2*m))*np.sum(np.absolute(z-y))\n",
    "    #mean absolute percentage error\n",
    "    #J = (100/(2*m))*np.sum(np.absolute((z-y)/z))\n",
    "    return J"
   ]
  },
  {
   "cell_type": "code",
   "execution_count": null,
   "metadata": {},
   "outputs": [],
   "source": [
    "def get_partial_derivative_terms(X,y,z):\n",
    "    m=y.shape[1]\n",
    "    dz=(1/m)*(z-y)\n",
    "    dw=np.dot(dz,X.T)\n",
    "    db=np.sum(dz)\n",
    "    return dw,db"
   ]
  },
  {
   "cell_type": "code",
   "execution_count": null,
   "metadata": {},
   "outputs": [],
   "source": [
    "def gradient_descent_update(w,b,dw,db,alpha):\n",
    "    w=w-alpha*dw\n",
    "    b=b-alpha*db\n",
    "    return w,b"
   ]
  },
  {
   "cell_type": "code",
   "execution_count": null,
   "metadata": {},
   "outputs": [],
   "source": [
    "def linear_regression(X_train,y_train,alpha,iterations):\n",
    "    lenw=X_train.shape[0]\n",
    "    w,b=init_parameters(lenw)\n",
    "    m_train=y_train.shape[1]\n",
    "    m_valid=y_valid.shape[1]\n",
    "    costs_train=[]\n",
    "    for i in range(iterations+1):\n",
    "        z_train=get_prediction(X_train,w,b)\n",
    "        cost_train=cost_function(z_train,y_train)\n",
    "        dw,db=get_partial_derivative_terms(X_train,y_train,z_train)\n",
    "        w,b=gradient_descent_update(w,b,dw,db,alpha)\n",
    "        print(w.shape)\n",
    "        \n",
    "        theta_vector=np.copy(w)\n",
    "        c_value=b\n",
    "        #store training_cost in list\n",
    "        if i%10==0:\n",
    "            costs_train.append(cost_train)\n",
    "        # Mean Absolute Error\n",
    "        mae_train=(1/m_train)*np.sum(np.abs(z_train-y_train))\n",
    "        \n",
    "        #cost_val ,mae_val on validation data\n",
    "        #z_valid=get_prediction(X_valid,w,b)\n",
    "        #cost_valid=cost_function(z_valid,y_valid)\n",
    "        #mae_valid=(1/m_valid)*np.sum(np.abs(z_valid-y_valid))\n",
    "        print('Iteration:',i)\n",
    "        print('Training cost:',cost_train)\n",
    "        #print('validation cost:',cost_valid)\n",
    "        print('Training MAE:',mae_train)\n",
    "        #print('Validation MAE:',mae_valid)\n",
    "        print('------------------------------')\n",
    "    mlt.plot(costs_train)\n",
    "    mlt.xlabel('Iterations (In 10s)')\n",
    "    mlt.ylabel('Training cost')\n",
    "    mlt.title('Learning rate'+str(alpha))\n",
    "    mlt.show()\n",
    "    return w,b\n",
    "    "
   ]
  },
  {
   "cell_type": "code",
   "execution_count": null,
   "metadata": {},
   "outputs": [],
   "source": [
    "theta_vector,c_value=linear_regression(X_train,y_train,0.04,500)"
   ]
  },
  {
   "cell_type": "code",
   "execution_count": null,
   "metadata": {},
   "outputs": [],
   "source": [
    "print(theta_vector)\n",
    "print(c_value)"
   ]
  },
  {
   "cell_type": "code",
   "execution_count": null,
   "metadata": {},
   "outputs": [],
   "source": [
    "z_valid=get_prediction(X_valid,theta_vector,c_value)\n",
    "cost_valid=cost_function(z_valid,y_valid)\n",
    "print(cost_valid)\n",
    "#print(cost_valid)\n",
    "#print(df['Chance of Admit '].max())\n",
    "#print(df['Chance of Admit '].min())\n",
    "#print(df['Chance of Admit '].mean())\n",
    "print(type(y_valid))\n",
    "for i in range(len(z_valid[0])):\n",
    "    if z_valid[0][i]<0.5:\n",
    "        z_valid[0][i]=0.0\n",
    "        print('predicted',z_valid[0][i])\n",
    "    else:\n",
    "        z_valid[0][i]=1.0\n",
    "        print('predicted',z_valid[0][i])\n",
    "    print('actual',y_valid[0][i])\n",
    "    print('-----------')"
   ]
  },
  {
   "cell_type": "code",
   "execution_count": 203,
   "metadata": {},
   "outputs": [
    {
     "name": "stdout",
     "output_type": "stream",
     "text": [
      "[1. 1. 1. 1. 1. 1. 1. 1. 1. 1. 1. 1. 1. 1. 1. 1. 1. 1. 1. 1. 1. 1. 1. 1.\n",
      " 1. 1. 1. 1. 1. 1. 1. 1. 1. 1. 1. 1. 1. 1. 1. 1. 1. 1. 1. 1. 1. 1. 1. 1.\n",
      " 1. 1. 1. 1. 1. 1. 1. 1. 1. 1. 1. 1. 1. 1. 1. 1. 1. 1. 1. 1. 1. 1. 1. 1.\n",
      " 1. 1. 1. 1. 1. 1. 1. 1. 1. 1. 1. 1. 1. 1. 1. 1. 1. 1.]\n",
      "[1. 1. 1. 1. 1. 1. 1. 1. 1. 1. 1. 1. 1. 1. 0. 1. 1. 1. 1. 1. 1. 1. 1. 1.\n",
      " 1. 1. 1. 1. 1. 1. 1. 1. 1. 1. 1. 1. 1. 0. 1. 1. 1. 1. 0. 1. 1. 1. 1. 1.\n",
      " 1. 1. 1. 1. 0. 1. 1. 1. 1. 1. 0. 1. 1. 1. 1. 1. 0. 1. 0. 0. 1. 1. 1. 1.\n",
      " 1. 1. 1. 1. 1. 1. 0. 1. 1. 1. 1. 1. 1. 0. 0. 1. 1. 1.]\n",
      "----\n",
      "Accuracy 0.8777777777777778\n",
      "Precision 1.0\n",
      "Recall 1.0\n",
      "F1 1.0\n"
     ]
    },
    {
     "name": "stderr",
     "output_type": "stream",
     "text": [
      "/home/ajay/.local/lib/python3.6/site-packages/sklearn/metrics/classification.py:1143: UndefinedMetricWarning: Precision and F-score are ill-defined and being set to 0.0 in labels with no predicted samples.\n",
      "  'precision', 'predicted', average, warn_for)\n"
     ]
    }
   ],
   "source": [
    "a,b,c,d=score(z_valid,y_valid)\n",
    "\n",
    "for i in range(len(z_valid)):\n",
    "    print(z_valid[i])\n",
    "    print(y_valid[i])\n",
    "    print ('----')\n",
    "print('Accuracy',(z_valid==y_valid).mean())\n",
    "print('Precision',a[0])\n",
    "print('Recall',b[0])\n",
    "print('F1',c[0])"
   ]
  },
  {
   "cell_type": "code",
   "execution_count": null,
   "metadata": {},
   "outputs": [],
   "source": []
  },
  {
   "cell_type": "code",
   "execution_count": null,
   "metadata": {},
   "outputs": [],
   "source": []
  },
  {
   "cell_type": "code",
   "execution_count": null,
   "metadata": {},
   "outputs": [],
   "source": []
  },
  {
   "cell_type": "code",
   "execution_count": null,
   "metadata": {},
   "outputs": [],
   "source": []
  },
  {
   "cell_type": "code",
   "execution_count": null,
   "metadata": {},
   "outputs": [],
   "source": []
  },
  {
   "cell_type": "code",
   "execution_count": null,
   "metadata": {},
   "outputs": [],
   "source": []
  },
  {
   "cell_type": "code",
   "execution_count": null,
   "metadata": {},
   "outputs": [],
   "source": []
  },
  {
   "cell_type": "code",
   "execution_count": null,
   "metadata": {},
   "outputs": [],
   "source": []
  },
  {
   "cell_type": "code",
   "execution_count": null,
   "metadata": {},
   "outputs": [],
   "source": []
  },
  {
   "cell_type": "code",
   "execution_count": null,
   "metadata": {},
   "outputs": [],
   "source": []
  },
  {
   "cell_type": "code",
   "execution_count": null,
   "metadata": {},
   "outputs": [],
   "source": []
  }
 ],
 "metadata": {
  "kernelspec": {
   "display_name": "Python 3",
   "language": "python",
   "name": "python3"
  },
  "language_info": {
   "codemirror_mode": {
    "name": "ipython",
    "version": 3
   },
   "file_extension": ".py",
   "mimetype": "text/x-python",
   "name": "python",
   "nbconvert_exporter": "python",
   "pygments_lexer": "ipython3",
   "version": "3.6.7"
  }
 },
 "nbformat": 4,
 "nbformat_minor": 2
}
