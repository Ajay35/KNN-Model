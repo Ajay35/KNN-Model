{
 "cells": [
  {
   "cell_type": "markdown",
   "metadata": {},
   "source": [
    "## Naive Baye's classifier"
   ]
  },
  {
   "cell_type": "code",
   "execution_count": 66,
   "metadata": {},
   "outputs": [],
   "source": [
    "import pandas as pd\n",
    "import numpy as np\n",
    "import matplotlib.pyplot as mlt\n",
    "import csv\n",
    "import random\n",
    "import operator\n",
    "import math\n",
    "from sklearn.metrics import precision_recall_fscore_support as score"
   ]
  },
  {
   "cell_type": "markdown",
   "metadata": {},
   "source": [
    "### Splitting the dataset in 80%-20%"
   ]
  },
  {
   "cell_type": "code",
   "execution_count": 72,
   "metadata": {},
   "outputs": [
    {
     "name": "stdout",
     "output_type": "stream",
     "text": [
      "[1.0000e+00 1.1000e+00 4.9000e+01 9.1107e+04 4.0000e+00 1.6000e+00\n",
      " 1.2000e+00 0.0000e+00 1.3000e+00 2.0000e-01 3.0000e-01 4.0000e-01\n",
      " 1.0000e+00]\n",
      "age: 1.0\n"
     ]
    }
   ],
   "source": [
    "train_df=[]\n",
    "validation_df=[]\n",
    "split = 0.2\n",
    "df=pd.read_csv('loan_data.csv',header=None)\n",
    "df=df[df.columns[[1,2,3,4,5,6,7,8,10,11,12,13,9]]]\n",
    "dataset=list(df.values)\n",
    "#df.head()\n",
    "\n",
    "# differentiate categorical and numerical data to calculate probability using different method\n",
    "categorical_features=[0,3,6,9,10,11,12]\n",
    "nuberical_features=[1,2,4,5,6,7,8]\n",
    "print('age:',dataset[0][categorical_features[0]])"
   ]
  },
  {
   "cell_type": "markdown",
   "metadata": {},
   "source": [
    "### Splitting dataset"
   ]
  },
  {
   "cell_type": "code",
   "execution_count": 73,
   "metadata": {},
   "outputs": [],
   "source": [
    "def divide(df,validation_data_size):\n",
    "    indices = df.index.tolist()\n",
    "    validation_data_size=round(validation_data_size*len(df))\n",
    "    validation_indices = random.sample(population=indices, k=validation_data_size)\n",
    "    train_data = df.drop(validation_indices)\n",
    "    validation_data = df.loc[validation_indices]\n",
    "    return train_data,validation_data"
   ]
  },
  {
   "cell_type": "code",
   "execution_count": 75,
   "metadata": {},
   "outputs": [
    {
     "name": "stdout",
     "output_type": "stream",
     "text": [
      "[3.0000e+00 3.5000e+01 4.0000e+01 9.4536e+04 4.0000e+00 4.0000e-01\n",
      " 1.0000e+00 0.0000e+00 0.0000e+00 0.0000e+00 0.0000e+00 0.0000e+00\n",
      " 0.0000e+00]\n"
     ]
    }
   ],
   "source": [
    "random.seed(0)\n",
    "train_df,validation_df = divide(df,validation_data_size=0.2)\n",
    "train_data =train_df.values\n",
    "validation_data=validation_df.values\n",
    "for d in validation_data:\n",
    "    if d[0]>=0 and d[0]<=35:\n",
    "        d[0]=1\n",
    "    elif d[0]>=36 and d[0]<=50:\n",
    "        d[0]=2;\n",
    "    else: \n",
    "        d[0]=3\n",
    "for d in train_data:\n",
    "    if d[0]>=0 and d[0]<=35:\n",
    "        d[0]=1\n",
    "    elif d[0]>=36 and d[0]<=50:\n",
    "        d[0]=2;\n",
    "    else: \n",
    "        d[0]=3\n",
    "print(train_data[0])"
   ]
  },
  {
   "cell_type": "markdown",
   "metadata": {},
   "source": [
    "### Functions for calculate mean and standard deviation"
   ]
  },
  {
   "cell_type": "code",
   "execution_count": 76,
   "metadata": {},
   "outputs": [],
   "source": [
    "def get_mean(attribute_values):\n",
    "    return sum(attribute_values)/float(len(attribute_values))\n",
    "\n",
    "def get_standard_deviation(attribute_values):\n",
    "    m=get_mean(attribute_values)\n",
    "    v=sum([pow(xd-m,2) for xd in attribute_values])/float(len(attribute_values))\n",
    "    return math.sqrt(v)"
   ]
  },
  {
   "cell_type": "markdown",
   "metadata": {},
   "source": [
    "### Calculate Gaussian probability"
   ]
  },
  {
   "cell_type": "code",
   "execution_count": 107,
   "metadata": {},
   "outputs": [
    {
     "name": "stdout",
     "output_type": "stream",
     "text": [
      "[[ 3. 35. 40. ...  0.  0.  0.]\n",
      " [ 2. 14. 80. ...  1.  0.  0.]\n",
      " [ 3. 32. 19. ...  0.  0.  0.]\n",
      " ...\n",
      " [ 3. 26. 45. ...  0.  0.  0.]\n",
      " [ 2. 12. 84. ...  1.  0.  0.]\n",
      " [ 3. 25. 70. ...  1.  0.  0.]]\n",
      "0.2761627906976744\n"
     ]
    }
   ],
   "source": [
    "def get_regular_prob(index,class_label,target_class,train_data):\n",
    "    label_col=train_data[:,index]\n",
    "    #print(label_col)\n",
    "    target_label_col=train_data[:,-1]\n",
    "    #print(target_label_col)\n",
    "    label_count=0\n",
    "    target_label_count=0\n",
    "    target_label_equal=0\n",
    "    for e in target_label_col:\n",
    "        if e==target_class:\n",
    "            target_label_count+=1\n",
    "    for i in range(len(label_col)):\n",
    "        if label_col[i]==class_label and target_label_col[i]==target_class:\n",
    "            target_label_equal+=1\n",
    "    if target_label_equal==0:\n",
    "        target_label_equal+=1\n",
    "    return (float(target_label_equal/target_label_count))\n",
    "    \n",
    "def get_gaussian_prob(t,mean,stdev):\n",
    "    exponent = math.exp(-(math.pow(t-mean,2)/(2*math.pow(stdev,2))))\n",
    "    return (1 / (math.sqrt(2*math.pi) * stdev)) * exponent\n",
    "\n",
    "print(train_data)\n",
    "print(get_regular_prob(0,1.0,1.0,train_data))"
   ]
  },
  {
   "cell_type": "markdown",
   "metadata": {},
   "source": [
    "### Get all classes from target variable"
   ]
  },
  {
   "cell_type": "code",
   "execution_count": 108,
   "metadata": {},
   "outputs": [],
   "source": [
    "def get_target_classes(dataset):\n",
    "    target_classes={}\n",
    "    for entry in dataset:\n",
    "        if (entry[-1] not in target_classes):\n",
    "            #add new target class in dictionary\n",
    "            target_classes[entry[-1]] = []\n",
    "        target_classes[entry[-1]].append(entry)\n",
    "    return target_classes"
   ]
  },
  {
   "cell_type": "markdown",
   "metadata": {},
   "source": [
    "### Group together attributes and calculate mean and standard deviation of train dataset"
   ]
  },
  {
   "cell_type": "code",
   "execution_count": 109,
   "metadata": {},
   "outputs": [],
   "source": [
    "\n",
    "def get_mean_stdev_dataset(train_data):\n",
    "    attribute_list=zip(*train_data)\n",
    "    mean_stdev_dataset = [(get_mean(attribute),get_standard_deviation(attribute)) for attribute in attribute_list]\n",
    "    del mean_stdev_dataset[-1]\n",
    "    return mean_stdev_dataset\n",
    "#for i in attribute_list:\n",
    " #   print (i)"
   ]
  },
  {
   "cell_type": "markdown",
   "metadata": {},
   "source": [
    "### Get mean and standard deviation of eacj target value and their instances it includes"
   ]
  },
  {
   "cell_type": "code",
   "execution_count": 110,
   "metadata": {},
   "outputs": [
    {
     "ename": "NameError",
     "evalue": "name 'get_mean_stdev_mean' is not defined",
     "output_type": "error",
     "traceback": [
      "\u001b[0;31m---------------------------------------------------------------------------\u001b[0m",
      "\u001b[0;31mNameError\u001b[0m                                 Traceback (most recent call last)",
      "\u001b[0;32m<ipython-input-110-b6761699e430>\u001b[0m in \u001b[0;36m<module>\u001b[0;34m()\u001b[0m\n\u001b[1;32m      5\u001b[0m         \u001b[0mmean_stdev_class\u001b[0m\u001b[0;34m[\u001b[0m\u001b[0mclass_value\u001b[0m\u001b[0;34m]\u001b[0m\u001b[0;34m=\u001b[0m\u001b[0mget_mean_stdev_dataset\u001b[0m\u001b[0;34m(\u001b[0m\u001b[0mentries\u001b[0m\u001b[0;34m)\u001b[0m\u001b[0;34m\u001b[0m\u001b[0;34m\u001b[0m\u001b[0m\n\u001b[1;32m      6\u001b[0m     \u001b[0;32mreturn\u001b[0m \u001b[0mmean_stdev_class\u001b[0m\u001b[0;34m\u001b[0m\u001b[0;34m\u001b[0m\u001b[0m\n\u001b[0;32m----> 7\u001b[0;31m \u001b[0mget_mean_stdev_mean\u001b[0m\u001b[0;34m(\u001b[0m\u001b[0mtrain_data\u001b[0m\u001b[0;34m)\u001b[0m\u001b[0;34m\u001b[0m\u001b[0;34m\u001b[0m\u001b[0m\n\u001b[0m",
      "\u001b[0;31mNameError\u001b[0m: name 'get_mean_stdev_mean' is not defined"
     ]
    }
   ],
   "source": [
    "def get_mean_stdev_by_class(train_data):\n",
    "    target_classes = get_target_classes(train_data)\n",
    "    mean_stdev_class = {}\n",
    "    for class_value, entries in target_classes.items():\n",
    "        mean_stdev_class[class_value]=get_mean_stdev_dataset(entries)\n",
    "    return mean_stdev_class\n",
    "get_mean_stdev_mean(train_data)"
   ]
  },
  {
   "cell_type": "code",
   "execution_count": 111,
   "metadata": {},
   "outputs": [],
   "source": [
    "def get_classes_prob(mean_stdev_class,train_data,test_entry):\n",
    "    prob_dict = {}\n",
    "    for class_value,entries in mean_stdev_class.items():\n",
    "        prob_dict[class_value]=1\n",
    "        for i in range(len(entries)):\n",
    "            if i not in categorical_features:\n",
    "                mean, stdev = entries[i]\n",
    "                t=test_entry[i]\n",
    "                prob_dict[class_value]*=get_gaussian_prob(t, mean, stdev)\n",
    "            else:\n",
    "                prob_dict[class_value]*=get_regular_prob(i,test_entry[i],class_value,train_data)\n",
    "    return prob_dict"
   ]
  },
  {
   "cell_type": "markdown",
   "metadata": {},
   "source": [
    "### Prediction algorithm"
   ]
  },
  {
   "cell_type": "code",
   "execution_count": 112,
   "metadata": {},
   "outputs": [],
   "source": [
    "def predict(mean_stdev_class,train_data, test_entry):\n",
    "    probabilities = get_classes_prob(mean_stdev_class,train_data,test_entry)\n",
    "    label=None\n",
    "    prob=-1\n",
    "    for class_value,probability in probabilities.items():\n",
    "        if label is None or probability > prob:\n",
    "            prob = probability\n",
    "            label = class_value\n",
    "    return label"
   ]
  },
  {
   "cell_type": "markdown",
   "metadata": {},
   "source": [
    "### getting predictions on complete validation_data"
   ]
  },
  {
   "cell_type": "code",
   "execution_count": 113,
   "metadata": {},
   "outputs": [],
   "source": [
    "def get_predictions(mean_stdev_class, test_data):\n",
    "    predictions = []\n",
    "    for test_entry in test_data:\n",
    "        result = predict(mean_stdev_class,train_data,test_entry)\n",
    "        predictions.append(result)\n",
    "    return predictions"
   ]
  },
  {
   "cell_type": "markdown",
   "metadata": {},
   "source": [
    "### Getting accuracy"
   ]
  },
  {
   "cell_type": "code",
   "execution_count": 116,
   "metadata": {},
   "outputs": [],
   "source": [
    "def get_accuracy(test_data,predictions):\n",
    "    correct = 0\n",
    "    for i in range(len(test_data)):\n",
    "        if test_data[i][-1]==predictions[i]:\n",
    "            correct += 1\n",
    "    a,b,c,d=score(predictions,test_data[:,-1])\n",
    "    print('Precision:',a[0])\n",
    "    print('Recall:',b[0])\n",
    "    print('F1:',c[0])\n",
    "    return (correct/float(len(test_data))) * 100.0"
   ]
  },
  {
   "cell_type": "markdown",
   "metadata": {},
   "source": [
    "### Training and testing the model with train_data and validation_data respectively"
   ]
  },
  {
   "cell_type": "code",
   "execution_count": 117,
   "metadata": {},
   "outputs": [
    {
     "name": "stdout",
     "output_type": "stream",
     "text": [
      "Precision: 0.8726823238566132\n",
      "Recall: 0.9860335195530726\n",
      "F1: 0.9259016393442624\n",
      "Accuracy 87.44444444444444\n"
     ]
    }
   ],
   "source": [
    "mean_stdev_by_class = get_mean_stdev_by_class(train_data)\n",
    "predictions = get_predictions(mean_stdev_by_class,validation_data)\n",
    "accuracy = get_accuracy(validation_data, predictions)\n",
    "print('Accuracy',accuracy)"
   ]
  },
  {
   "cell_type": "code",
   "execution_count": null,
   "metadata": {},
   "outputs": [],
   "source": []
  },
  {
   "cell_type": "code",
   "execution_count": null,
   "metadata": {},
   "outputs": [],
   "source": []
  }
 ],
 "metadata": {
  "kernelspec": {
   "display_name": "Python 3",
   "language": "python",
   "name": "python3"
  },
  "language_info": {
   "codemirror_mode": {
    "name": "ipython",
    "version": 3
   },
   "file_extension": ".py",
   "mimetype": "text/x-python",
   "name": "python",
   "nbconvert_exporter": "python",
   "pygments_lexer": "ipython3",
   "version": "3.6.7"
  }
 },
 "nbformat": 4,
 "nbformat_minor": 2
}
